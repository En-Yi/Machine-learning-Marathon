{
 "cells": [
  {
   "cell_type": "markdown",
   "metadata": {},
   "source": [
    "## [作業目標]\n",
    "持續接觸有關機器學習的相關專案與最新技術"
   ]
  },
  {
   "cell_type": "markdown",
   "metadata": {},
   "source": [
    "## [作業重點]\n",
    "透過觀察頂尖公司的機器學習文章，來了解各公司是怎麼應用機器學習在實際的專案上"
   ]
  },
  {
   "cell_type": "markdown",
   "metadata": {},
   "source": [
    "## [作業]\n",
    "今天的作業希望大家能夠看看全球機器學習巨頭們在做的機器學習專案。以 google 為例，下圖是 Google 內部專案使用機器學習的數量，隨著時間進展，現在早已超過 2000 個專案在使用機器學習。"
   ]
  },
  {
   "cell_type": "markdown",
   "metadata": {},
   "source": [
    "![image](https://cdn-images-1.medium.com/max/800/1*U_L8qI8RmYS-MOBrYvXhSA.png)"
   ]
  },
  {
   "cell_type": "markdown",
   "metadata": {},
   "source": [
    "底下幫同學整理幾間知名企業的 blog 或機器學習網站 (自行搜尋也可)，這些網站都會整理最新的機器學習專案或者是技術文章，請挑選一篇文章閱讀並試著回答\n",
    "1. 專案的目標？ (要解決什麼問題）\n",
    "2. 使用的技術是？ (只需知道名稱即可，例如：使用 CNN 卷積神經網路做影像分類)\n",
    "3. 資料來源？ "
   ]
  },
  {
   "cell_type": "markdown",
   "metadata": {},
   "source": [
    "- [Google AI blog](https://ai.googleblog.com/)\n",
    "- [Facebook Research blog](https://research.fb.com/blog/)\n",
    "- [Apple machine learning journal](https://machinelearning.apple.com/)\n",
    "- [機器之心](https://www.jiqizhixin.com/)\n",
    "- [雷鋒網](http://www.leiphone.com/category/ai)"
   ]
  },
  {
   "cell_type": "markdown",
   "metadata": {},
   "source": [
    "1. 專案目標:  \n",
    "\n",
    "(1)\n",
    "高動態範圍（HDR）成像是一種用於捕獲從深陰影到明亮高光的各種亮度的場景的方法。在Pixel手機上，HDR成像背後的引擎是HDR +連拍攝影，它涉及捕獲有意曝光不足的圖像的快速連拍，將它們組合起來，並以保留整個色調範圍內細節的方式對其進行渲染。直到最近，HDR +的一個挑戰是無法實時計算（即每秒30幀），這阻礙了取景器與最終結果的匹配。  \n",
    "\n",
    "(2)\n",
    "HDR +旨在自動生成令人愉悅的HDR圖像，而無需手動控製或後處理。但是有時HDR +渲染可能與攝影師的藝術視野不符。儘管圖像編輯工具是部分補救措施，但是HDR圖像在編輯時可能會遇到挑戰，因為某些決定已有效地轉化為最終的JPG。為了最大程度地進行編輯，可以為每張照片保存RAW圖像（應用程序中的一個選項）。但是，此過程使攝影師無法使用，並且需要RAW編輯工具的專業知識以及額外的存儲空間。\n",
    "\n",
    "藝術控制的另一種方法是將其實時提供在取景器中。許多攝影師熟悉曝光補償滑塊，可以使圖像變亮或變暗。但是整體亮度不足以表現HDR攝影。至少需要兩個控件才能分別控制高光和陰影。\n",
    "\n",
    "2. 使用技術:  \n",
    "\n",
    "(1)HDRnet:\n",
    "可以從線性圖像中預測近似於該圖像的HDR +外觀的每塊曲線。由於其緊湊的體系結構以及低分辨率輸入圖像可用於預測高分辨率取景器的曲線的方式，它也很快。我們在數以千計的圖像上訓練HDRnet，以確保其在各種場景下都能正常工作。\n",
    "\n",
    "(2)雙重曝光控制:\n",
    "當用戶點擊Live HDR +取景器時，將出現兩個滑塊。“亮度”滑塊的作用類似於傳統的曝光補償，可改變整體曝光。此滑塊用於在明亮的天空中恢復更多細節，或故意使背景變暗並使對象更清晰。“陰影”滑塊僅影響黑暗區域-它通過更改色調映射而不是曝光來操作。此滑塊對於高對比度場景最有用，它允許用戶增強陰影以顯示細節或抑制它們以創建輪廓。\n",
    "\n",
    "3. 資料來源:\n",
    "Google AI blog\n",
    "https://ai.googleblog.com/"
   ]
  },
  {
   "cell_type": "code",
   "execution_count": null,
   "metadata": {},
   "outputs": [],
   "source": []
  }
 ],
 "metadata": {
  "kernelspec": {
   "display_name": "Python 3",
   "language": "python",
   "name": "python3"
  },
  "language_info": {
   "codemirror_mode": {
    "name": "ipython",
    "version": 3
   },
   "file_extension": ".py",
   "mimetype": "text/x-python",
   "name": "python",
   "nbconvert_exporter": "python",
   "pygments_lexer": "ipython3",
   "version": "3.7.6"
  }
 },
 "nbformat": 4,
 "nbformat_minor": 2
}
