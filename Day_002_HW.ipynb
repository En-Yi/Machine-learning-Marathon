{
 "cells": [
  {
   "cell_type": "markdown",
   "metadata": {},
   "source": [
    "## [作業目標]\n",
    "了解機器學習適合應用的領域與範疇。"
   ]
  },
  {
   "cell_type": "markdown",
   "metadata": {},
   "source": [
    "## [作業重點]\n",
    "透過瞭解機器學習的運作方式，找出非常適用機器學習應用的領域及其原因"
   ]
  },
  {
   "cell_type": "markdown",
   "metadata": {},
   "source": [
    "## 作業\n",
    "請找出一個你認為機器學習可以發光發熱的領域並闡述原因? \n",
    "\n",
    "我認為機器學習一個可以發光發熱的領域是醫療領域的診斷。\n",
    "\n",
    "例如: **預測疾病進展、判斷是否患有疾病和支持以及全面的患者管理** 。ML也被用於數據分析，例如通過適當處理不完善的數據、對重症監護室使用的連續數據的解釋以及智能報警，從而進行有效和高效的監測來檢測數據的規律性。\n",
    "\n",
    "在醫學診斷中，主要運用在確定一種疾病的存在，對其進行準確的識別上。正在發生的每種疾病都有一個單獨的類別，而沒有出現的疾病有另一個類別。我認為很重要的一點是ML通過分析患者的數據來提高醫學診斷的準確性。\n",
    "\n",
    "參考原文網址：https://kknews.cc/tech/epl3pez.html"
   ]
  },
  {
   "cell_type": "markdown",
   "metadata": {},
   "source": [
    "   "
   ]
  }
 ],
 "metadata": {
  "kernelspec": {
   "display_name": "Python 3",
   "language": "python",
   "name": "python3"
  },
  "language_info": {
   "codemirror_mode": {
    "name": "ipython",
    "version": 3
   },
   "file_extension": ".py",
   "mimetype": "text/x-python",
   "name": "python",
   "nbconvert_exporter": "python",
   "pygments_lexer": "ipython3",
   "version": "3.7.6"
  }
 },
 "nbformat": 4,
 "nbformat_minor": 2
}
